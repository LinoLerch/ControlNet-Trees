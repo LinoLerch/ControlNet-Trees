{
 "cells": [
  {
   "cell_type": "code",
   "execution_count": 1,
   "metadata": {},
   "outputs": [],
   "source": [
    "# Load the TensorBoard notebook extension\n",
    "%load_ext tensorboard"
   ]
  },
  {
   "cell_type": "markdown",
   "metadata": {},
   "source": [
    "If launching Tensorboards throws an error, run the diagnosis script:\n",
    "```\n",
    "python tensorboard_diagnosis.py\n",
    "```"
   ]
  },
  {
   "cell_type": "markdown",
   "metadata": {},
   "source": [
    "### Extract validation images from TensorBoard event file\n",
    "\n",
    "Source: https://gist.github.com/hysts/81a0d30ac4f33dfa0c8859383aec42c2"
   ]
  },
  {
   "cell_type": "code",
   "execution_count": 2,
   "metadata": {},
   "outputs": [],
   "source": [
    "import numpy as np\n",
    "import cv2\n",
    "import pathlib\n",
    "import os\n",
    "from tensorboard.backend.event_processing import event_accumulator\n",
    "\n",
    "\n",
    "def extract_val_images(path, outdir):\n",
    "\n",
    "    event_acc = event_accumulator.EventAccumulator(\n",
    "        path, size_guidance={'images': 0})\n",
    "    event_acc.Reload()\n",
    "\n",
    "    outdir = pathlib.Path(outdir)\n",
    "    outdir.mkdir(exist_ok=True, parents=True)\n",
    "\n",
    "    for tag in event_acc.Tags()['images']:\n",
    "        events = event_acc.Images(tag)\n",
    "\n",
    "        tag_name = tag.replace('/', '_')\n",
    "        dirpath = outdir / tag_name\n",
    "        dirpath.mkdir(exist_ok=True, parents=True)\n",
    "\n",
    "        for index, event in enumerate(events):\n",
    "            s = np.frombuffer(event.encoded_image_string, dtype=np.uint8)\n",
    "            image = cv2.imdecode(s, cv2.IMREAD_COLOR)\n",
    "            outpath = dirpath / '{:04}.jpg'.format(index)\n",
    "            cv2.imwrite(outpath.as_posix(), image)"
   ]
  },
  {
   "cell_type": "code",
   "execution_count": 4,
   "metadata": {},
   "outputs": [],
   "source": [
    "TRAIN_OUT_DIR = \"C:\\\\Users\\\\viscom\\\\workspace\\\\tree_project\\\\Training_Output\"\n",
    "path_event_log = os.path.join(TRAIN_OUT_DIR, \"cn1\", \"logs\", \"controlnet_trees\")\n",
    "out_dir =  os.path.join(TRAIN_OUT_DIR, \"cn1\", \"val_images\")\n",
    "extract_val_images(path_event_log, out_dir)"
   ]
  }
 ],
 "metadata": {
  "kernelspec": {
   "display_name": "cn_trees",
   "language": "python",
   "name": "cn_trees"
  },
  "language_info": {
   "codemirror_mode": {
    "name": "ipython",
    "version": 3
   },
   "file_extension": ".py",
   "mimetype": "text/x-python",
   "name": "python",
   "nbconvert_exporter": "python",
   "pygments_lexer": "ipython3",
   "version": "3.10.6"
  },
  "orig_nbformat": 4
 },
 "nbformat": 4,
 "nbformat_minor": 2
}
